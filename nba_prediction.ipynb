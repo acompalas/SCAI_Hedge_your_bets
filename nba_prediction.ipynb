{
 "cells": [
  {
   "cell_type": "code",
   "execution_count": 1,
   "metadata": {},
   "outputs": [],
   "source": [
    "import csv\n",
    "import pandas as pd\n",
    "import os"
   ]
  },
  {
   "cell_type": "code",
   "execution_count": 2,
   "metadata": {},
   "outputs": [],
   "source": [
    "# Specify the path to the parent folder (\"SCAI_comp\")\n",
    "read_file = '/Users/andersoncompalas/Documents/SCAI_comp/datasets/nba_games.csv'\n",
    "\n",
    "# Specify the path for the new CSV file\n",
    "write_file = '/Users/andersoncompalas/Documents/SCAI_comp/datasets/games.csv'"
   ]
  },
  {
   "cell_type": "code",
   "execution_count": 3,
   "metadata": {},
   "outputs": [],
   "source": [
    "# Initialize an empty list to store the data\n",
    "data_list = []\n",
    "\n",
    "# Open the CSV file in read mode\n",
    "with open(read_file, 'r') as csv_file:\n",
    "    # Create a CSV reader\n",
    "    csv_reader = csv.reader(csv_file)\n",
    "    \n",
    "    # Read the first row to get the column headers\n",
    "    headers = next(csv_reader)\n",
    "    \n",
    "    # Iterate through each row in the CSV file and create a dictionary for each row\n",
    "    for row in csv_reader:\n",
    "        row_dict = {header: value for header, value in zip(headers, row)}\n",
    "        data_list.append(row_dict)\n",
    "\n",
    "# Open the new CSV file in write mode\n",
    "with open(write_file, 'w', newline='') as new_csv_file:\n",
    "    # Define the column headers based on the keys of the dictionaries\n",
    "    headers = data_list[0].keys()\n",
    "\n",
    "    # Create a CSV writer\n",
    "    csv_writer = csv.DictWriter(new_csv_file, fieldnames=headers)\n",
    "    \n",
    "    # Write the headers to the new CSV file\n",
    "    csv_writer.writeheader()\n",
    "    \n",
    "    # Write the data from the list of dictionaries to the new CSV file\n",
    "    for row in data_list:\n",
    "        csv_writer.writerow(row)"
   ]
  },
  {
   "cell_type": "code",
   "execution_count": 6,
   "metadata": {},
   "outputs": [],
   "source": [
    "# Read the CSV file into a Pandas DataFrame\n",
    "df = pd.read_csv(write_file)\n",
    "\n",
    "df = df.sort_values(\"date\")"
   ]
  }
 ],
 "metadata": {
  "kernelspec": {
   "display_name": "Python 3",
   "language": "python",
   "name": "python3"
  },
  "language_info": {
   "codemirror_mode": {
    "name": "ipython",
    "version": 3
   },
   "file_extension": ".py",
   "mimetype": "text/x-python",
   "name": "python",
   "nbconvert_exporter": "python",
   "pygments_lexer": "ipython3",
   "version": "3.10.6"
  }
 },
 "nbformat": 4,
 "nbformat_minor": 2
}
