{
 "cells": [
  {
   "cell_type": "code",
   "execution_count": 9,
   "metadata": {},
   "outputs": [],
   "source": [
    "import csv\n",
    "import pandas as pd\n",
    "import os"
   ]
  },
  {
   "cell_type": "code",
   "execution_count": 14,
   "metadata": {},
   "outputs": [],
   "source": [
    "# Specify the path to the parent folder (\"SCAI_comp\")\n",
    "parent_folder = '/Users/andersoncompalas/Documents/SCAI_comp'\n",
    "\n",
    "# Specify the name of the dataset folder\n",
    "# dataset_folder = 'datasets'\n",
    "\n",
    "# Specify the name of the CSV file\n",
    "file_name = 'datasets/nba_games.csv'\n",
    "\n",
    "# Construct the full path to the CSV file\n",
    "csv_file_path = os.path.join(parent_folder, dataset_folder, file_name)"
   ]
  },
  {
   "cell_type": "code",
   "execution_count": 20,
   "metadata": {},
   "outputs": [
    {
     "ename": "NameError",
     "evalue": "name 'DictReader' is not defined",
     "output_type": "error",
     "traceback": [
      "\u001b[0;31m---------------------------------------------------------------------------\u001b[0m",
      "\u001b[0;31mNameError\u001b[0m                                 Traceback (most recent call last)",
      "\u001b[1;32m/Users/andersoncompalas/Documents/SCAI_comp/nba_prediction.ipynb Cell 3\u001b[0m line \u001b[0;36m1\n\u001b[1;32m      <a href='vscode-notebook-cell:/Users/andersoncompalas/Documents/SCAI_comp/nba_prediction.ipynb#W3sZmlsZQ%3D%3D?line=3'>4</a>\u001b[0m \u001b[39m# with open(file_name, mode='r') as infile:\u001b[39;00m\n\u001b[1;32m      <a href='vscode-notebook-cell:/Users/andersoncompalas/Documents/SCAI_comp/nba_prediction.ipynb#W3sZmlsZQ%3D%3D?line=4'>5</a>\u001b[0m \u001b[39m#     reader = csv.reader(infile)\u001b[39;00m\n\u001b[1;32m      <a href='vscode-notebook-cell:/Users/andersoncompalas/Documents/SCAI_comp/nba_prediction.ipynb#W3sZmlsZQ%3D%3D?line=5'>6</a>\u001b[0m \u001b[39m#     mydict = {rows[0]:rows[1] for rows in reader}\u001b[39;00m\n\u001b[1;32m      <a href='vscode-notebook-cell:/Users/andersoncompalas/Documents/SCAI_comp/nba_prediction.ipynb#W3sZmlsZQ%3D%3D?line=7'>8</a>\u001b[0m \u001b[39mwith\u001b[39;00m \u001b[39mopen\u001b[39m(file_name, \u001b[39m'\u001b[39m\u001b[39mr\u001b[39m\u001b[39m'\u001b[39m) \u001b[39mas\u001b[39;00m f:\n\u001b[0;32m---> <a href='vscode-notebook-cell:/Users/andersoncompalas/Documents/SCAI_comp/nba_prediction.ipynb#W3sZmlsZQ%3D%3D?line=9'>10</a>\u001b[0m     dict_reader \u001b[39m=\u001b[39m DictReader(f)\n\u001b[1;32m     <a href='vscode-notebook-cell:/Users/andersoncompalas/Documents/SCAI_comp/nba_prediction.ipynb#W3sZmlsZQ%3D%3D?line=11'>12</a>\u001b[0m     list_of_dict \u001b[39m=\u001b[39m \u001b[39mlist\u001b[39m(dict_reader)\n\u001b[1;32m     <a href='vscode-notebook-cell:/Users/andersoncompalas/Documents/SCAI_comp/nba_prediction.ipynb#W3sZmlsZQ%3D%3D?line=13'>14</a>\u001b[0m     \u001b[39mprint\u001b[39m(list_of_dict)\n",
      "\u001b[0;31mNameError\u001b[0m: name 'DictReader' is not defined"
     ]
    }
   ],
   "source": [
    "# Initialize an empty dictionary to store the data\n",
    "mydict = {}\n",
    "    \n",
    "# with open(file_name, mode='r') as infile:\n",
    "#     reader = csv.reader(infile)\n",
    "#     mydict = {rows[0]:rows[1] for rows in reader}\n",
    "\n",
    "with open(file_name, 'r') as f:\n",
    "     \n",
    "    dict_reader = csv.DictReader(f)\n",
    "     \n",
    "    list_of_dict = list(dict_reader)\n",
    "   \n",
    "    print(list_of_dict)\n",
    "        \n",
    "# Display the first 5 rows from the dictionary\n",
    "for key, value in list(mydict.items())[:5]:\n",
    "    print(f'Key: {key}, Value: {value}')\n",
    "    \n",
    "print(mydict)\n"
   ]
  }
 ],
 "metadata": {
  "kernelspec": {
   "display_name": "Python 3",
   "language": "python",
   "name": "python3"
  },
  "language_info": {
   "codemirror_mode": {
    "name": "ipython",
    "version": 3
   },
   "file_extension": ".py",
   "mimetype": "text/x-python",
   "name": "python",
   "nbconvert_exporter": "python",
   "pygments_lexer": "ipython3",
   "version": "3.10.6"
  }
 },
 "nbformat": 4,
 "nbformat_minor": 2
}
