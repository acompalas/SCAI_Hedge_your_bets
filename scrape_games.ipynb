{
 "cells": [
  {
   "cell_type": "code",
   "execution_count": 4,
   "id": "1daf53c0-5a97-4a29-b93e-f74fbba90e1c",
   "metadata": {},
   "outputs": [],
   "source": [
    "import os\n",
    "from bs4 import BeautifulSoup\n",
    "from playwright.async_api import async_playwright, TimeoutError as PlaywrightTimeout\n",
    "import time"
   ]
  },
  {
   "cell_type": "code",
   "execution_count": 5,
   "id": "dc6068cd-323a-484a-90cc-45f960b58db6",
   "metadata": {},
   "outputs": [],
   "source": [
    "SEASONS = list(range(2016, 2023))"
   ]
  },
  {
   "cell_type": "code",
   "execution_count": 6,
   "id": "89f7193f-8b15-4094-bae1-0b486cc71d3f",
   "metadata": {},
   "outputs": [],
   "source": [
    "DATA_DIR = \"data\"\n",
    "STANDINGS_DIR = os.path.join(DATA_DIR, \"standings\")\n",
    "SCORES_DIR = os.path.join(DATA_DIR, \"scores\")"
   ]
  },
  {
   "cell_type": "code",
   "execution_count": 16,
   "metadata": {},
   "outputs": [],
   "source": [
    "import time\n",
    "from playwright.async_api import async_playwright, TimeoutError as PlaywrightTimeout\n",
    "\n",
    "async def get_html(url, selector, sleep=10, retries=5):\n",
    "    html = None\n",
    "    user_agent = \"Mozilla/5.0 (Windows NT 10.0; Win64; x64) AppleWebKit/537.36 (KHTML, like Gecko) Chrome/58.0.3029.110 Safari/537.3\"\n",
    "\n",
    "    for i in range(1, retries+1):\n",
    "        time.sleep(sleep * i)\n",
    "\n",
    "        try:\n",
    "            async with async_playwright() as p:\n",
    "                browser = await p.firefox.launch()\n",
    "                \n",
    "                # Set a user-agent in the HTTP headers\n",
    "                context = await browser.new_context(extra_http_headers={'User-Agent': user_agent})\n",
    "                \n",
    "                # Create a new page within the context\n",
    "                page = await context.new_page()\n",
    "                \n",
    "                await page.goto(url)\n",
    "                print(await page.title())\n",
    "                html = await page.inner_html(selector)\n",
    "        except PlaywrightTimeout:\n",
    "            print(f\"Timeout error on {url}\")\n",
    "            continue\n",
    "        else:\n",
    "            break\n",
    "    return html\n"
   ]
  },
  {
   "cell_type": "code",
   "execution_count": null,
   "metadata": {},
   "outputs": [],
   "source": []
  },
  {
   "cell_type": "code",
   "execution_count": 17,
   "metadata": {},
   "outputs": [],
   "source": [
    "season = 2016\n",
    "\n",
    "url = f\"https://www.basketball-reference.com/leagues/NBA_{season}_games.html\""
   ]
  },
  {
   "cell_type": "code",
   "execution_count": 18,
   "metadata": {},
   "outputs": [
    {
     "name": "stdout",
     "output_type": "stream",
     "text": [
      "2015-16 NBA Schedule | Basketball-Reference.com\n",
      "Timeout error on https://www.basketball-reference.com/leagues/NBA_2016_games.html\n"
     ]
    },
    {
     "ename": "CancelledError",
     "evalue": "",
     "output_type": "error",
     "traceback": [
      "\u001b[0;31m---------------------------------------------------------------------------\u001b[0m",
      "\u001b[0;31mCancelledError\u001b[0m                            Traceback (most recent call last)",
      "\u001b[1;32m/Users/andersoncompalas/Documents/SCAI_comp/scrape_games.ipynb Cell 7\u001b[0m line \u001b[0;36m1\n\u001b[0;32m----> <a href='vscode-notebook-cell:/Users/andersoncompalas/Documents/SCAI_comp/scrape_games.ipynb#W5sZmlsZQ%3D%3D?line=0'>1</a>\u001b[0m html \u001b[39m=\u001b[39m \u001b[39mawait\u001b[39;00m get_html(url, \u001b[39m\"\u001b[39m\u001b[39m#content.filter\u001b[39m\u001b[39m\"\u001b[39m)\n",
      "\u001b[1;32m/Users/andersoncompalas/Documents/SCAI_comp/scrape_games.ipynb Cell 7\u001b[0m line \u001b[0;36m1\n\u001b[1;32m      <a href='vscode-notebook-cell:/Users/andersoncompalas/Documents/SCAI_comp/scrape_games.ipynb#W5sZmlsZQ%3D%3D?line=8'>9</a>\u001b[0m time\u001b[39m.\u001b[39msleep(sleep \u001b[39m*\u001b[39m i)\n\u001b[1;32m     <a href='vscode-notebook-cell:/Users/andersoncompalas/Documents/SCAI_comp/scrape_games.ipynb#W5sZmlsZQ%3D%3D?line=10'>11</a>\u001b[0m \u001b[39mtry\u001b[39;00m:\n\u001b[0;32m---> <a href='vscode-notebook-cell:/Users/andersoncompalas/Documents/SCAI_comp/scrape_games.ipynb#W5sZmlsZQ%3D%3D?line=11'>12</a>\u001b[0m     \u001b[39masync\u001b[39;00m \u001b[39mwith\u001b[39;00m async_playwright() \u001b[39mas\u001b[39;00m p:\n\u001b[1;32m     <a href='vscode-notebook-cell:/Users/andersoncompalas/Documents/SCAI_comp/scrape_games.ipynb#W5sZmlsZQ%3D%3D?line=12'>13</a>\u001b[0m         browser \u001b[39m=\u001b[39m \u001b[39mawait\u001b[39;00m p\u001b[39m.\u001b[39mfirefox\u001b[39m.\u001b[39mlaunch()\n\u001b[1;32m     <a href='vscode-notebook-cell:/Users/andersoncompalas/Documents/SCAI_comp/scrape_games.ipynb#W5sZmlsZQ%3D%3D?line=14'>15</a>\u001b[0m         \u001b[39m# Set a user-agent in the HTTP headers\u001b[39;00m\n",
      "File \u001b[0;32m~/miniconda3/lib/python3.11/site-packages/playwright/async_api/_context_manager.py:41\u001b[0m, in \u001b[0;36mPlaywrightContextManager.__aenter__\u001b[0;34m(self)\u001b[0m\n\u001b[1;32m     38\u001b[0m loop\u001b[39m.\u001b[39mcreate_task(\u001b[39mself\u001b[39m\u001b[39m.\u001b[39m_connection\u001b[39m.\u001b[39mrun())\n\u001b[1;32m     39\u001b[0m playwright_future \u001b[39m=\u001b[39m \u001b[39mself\u001b[39m\u001b[39m.\u001b[39m_connection\u001b[39m.\u001b[39mplaywright_future\n\u001b[0;32m---> 41\u001b[0m done, _ \u001b[39m=\u001b[39m \u001b[39mawait\u001b[39;00m asyncio\u001b[39m.\u001b[39mwait(\n\u001b[1;32m     42\u001b[0m     {\u001b[39mself\u001b[39m\u001b[39m.\u001b[39m_connection\u001b[39m.\u001b[39m_transport\u001b[39m.\u001b[39mon_error_future, playwright_future},\n\u001b[1;32m     43\u001b[0m     return_when\u001b[39m=\u001b[39masyncio\u001b[39m.\u001b[39mFIRST_COMPLETED,\n\u001b[1;32m     44\u001b[0m )\n\u001b[1;32m     45\u001b[0m \u001b[39mif\u001b[39;00m \u001b[39mnot\u001b[39;00m playwright_future\u001b[39m.\u001b[39mdone():\n\u001b[1;32m     46\u001b[0m     playwright_future\u001b[39m.\u001b[39mcancel()\n",
      "File \u001b[0;32m~/miniconda3/lib/python3.11/asyncio/tasks.py:418\u001b[0m, in \u001b[0;36mwait\u001b[0;34m(fs, timeout, return_when)\u001b[0m\n\u001b[1;32m    415\u001b[0m     \u001b[39mraise\u001b[39;00m \u001b[39mTypeError\u001b[39;00m(\u001b[39m\"\u001b[39m\u001b[39mPassing coroutines is forbidden, use tasks explicitly.\u001b[39m\u001b[39m\"\u001b[39m)\n\u001b[1;32m    417\u001b[0m loop \u001b[39m=\u001b[39m events\u001b[39m.\u001b[39mget_running_loop()\n\u001b[0;32m--> 418\u001b[0m \u001b[39mreturn\u001b[39;00m \u001b[39mawait\u001b[39;00m _wait(fs, timeout, return_when, loop)\n",
      "File \u001b[0;32m~/miniconda3/lib/python3.11/asyncio/tasks.py:525\u001b[0m, in \u001b[0;36m_wait\u001b[0;34m(fs, timeout, return_when, loop)\u001b[0m\n\u001b[1;32m    522\u001b[0m     f\u001b[39m.\u001b[39madd_done_callback(_on_completion)\n\u001b[1;32m    524\u001b[0m \u001b[39mtry\u001b[39;00m:\n\u001b[0;32m--> 525\u001b[0m     \u001b[39mawait\u001b[39;00m waiter\n\u001b[1;32m    526\u001b[0m \u001b[39mfinally\u001b[39;00m:\n\u001b[1;32m    527\u001b[0m     \u001b[39mif\u001b[39;00m timeout_handle \u001b[39mis\u001b[39;00m \u001b[39mnot\u001b[39;00m \u001b[39mNone\u001b[39;00m:\n",
      "\u001b[0;31mCancelledError\u001b[0m: "
     ]
    }
   ],
   "source": [
    "html = await get_html(url, \"#content.filter\")"
   ]
  },
  {
   "cell_type": "code",
   "execution_count": 28,
   "metadata": {},
   "outputs": [
    {
     "ename": "TypeError",
     "evalue": "object of type 'NoneType' has no len()",
     "output_type": "error",
     "traceback": [
      "\u001b[0;31m---------------------------------------------------------------------------\u001b[0m",
      "\u001b[0;31mTypeError\u001b[0m                                 Traceback (most recent call last)",
      "\u001b[1;32m/Users/andersoncompalas/Documents/SCAI_comp/scrape_games.ipynb Cell 7\u001b[0m line \u001b[0;36m1\n\u001b[0;32m----> <a href='vscode-notebook-cell:/Users/andersoncompalas/Documents/SCAI_comp/scrape_games.ipynb#W6sZmlsZQ%3D%3D?line=0'>1</a>\u001b[0m soup \u001b[39m=\u001b[39m BeautifulSoup(html)\n\u001b[1;32m      <a href='vscode-notebook-cell:/Users/andersoncompalas/Documents/SCAI_comp/scrape_games.ipynb#W6sZmlsZQ%3D%3D?line=1'>2</a>\u001b[0m links \u001b[39m=\u001b[39m soup\u001b[39m.\u001b[39mfind_all(\u001b[39m\"\u001b[39m\u001b[39ma\u001b[39m\u001b[39m\"\u001b[39m)\n\u001b[1;32m      <a href='vscode-notebook-cell:/Users/andersoncompalas/Documents/SCAI_comp/scrape_games.ipynb#W6sZmlsZQ%3D%3D?line=2'>3</a>\u001b[0m href \u001b[39m=\u001b[39m [l[\u001b[39m\"\u001b[39m\u001b[39mhref\u001b[39m\u001b[39m\"\u001b[39m] \u001b[39mfor\u001b[39;00m l \u001b[39min\u001b[39;00m links]\n",
      "File \u001b[0;32m~/miniconda3/lib/python3.11/site-packages/bs4/__init__.py:315\u001b[0m, in \u001b[0;36mBeautifulSoup.__init__\u001b[0;34m(self, markup, features, builder, parse_only, from_encoding, exclude_encodings, element_classes, **kwargs)\u001b[0m\n\u001b[1;32m    313\u001b[0m \u001b[39mif\u001b[39;00m \u001b[39mhasattr\u001b[39m(markup, \u001b[39m'\u001b[39m\u001b[39mread\u001b[39m\u001b[39m'\u001b[39m):        \u001b[39m# It's a file-type object.\u001b[39;00m\n\u001b[1;32m    314\u001b[0m     markup \u001b[39m=\u001b[39m markup\u001b[39m.\u001b[39mread()\n\u001b[0;32m--> 315\u001b[0m \u001b[39melif\u001b[39;00m \u001b[39mlen\u001b[39;49m(markup) \u001b[39m<\u001b[39m\u001b[39m=\u001b[39m \u001b[39m256\u001b[39m \u001b[39mand\u001b[39;00m (\n\u001b[1;32m    316\u001b[0m         (\u001b[39misinstance\u001b[39m(markup, \u001b[39mbytes\u001b[39m) \u001b[39mand\u001b[39;00m \u001b[39mnot\u001b[39;00m \u001b[39mb\u001b[39m\u001b[39m'\u001b[39m\u001b[39m<\u001b[39m\u001b[39m'\u001b[39m \u001b[39min\u001b[39;00m markup)\n\u001b[1;32m    317\u001b[0m         \u001b[39mor\u001b[39;00m (\u001b[39misinstance\u001b[39m(markup, \u001b[39mstr\u001b[39m) \u001b[39mand\u001b[39;00m \u001b[39mnot\u001b[39;00m \u001b[39m'\u001b[39m\u001b[39m<\u001b[39m\u001b[39m'\u001b[39m \u001b[39min\u001b[39;00m markup)\n\u001b[1;32m    318\u001b[0m ):\n\u001b[1;32m    319\u001b[0m     \u001b[39m# Issue warnings for a couple beginner problems\u001b[39;00m\n\u001b[1;32m    320\u001b[0m     \u001b[39m# involving passing non-markup to Beautiful Soup.\u001b[39;00m\n\u001b[1;32m    321\u001b[0m     \u001b[39m# Beautiful Soup will still parse the input as markup,\u001b[39;00m\n\u001b[1;32m    322\u001b[0m     \u001b[39m# since that is sometimes the intended behavior.\u001b[39;00m\n\u001b[1;32m    323\u001b[0m     \u001b[39mif\u001b[39;00m \u001b[39mnot\u001b[39;00m \u001b[39mself\u001b[39m\u001b[39m.\u001b[39m_markup_is_url(markup):\n\u001b[1;32m    324\u001b[0m         \u001b[39mself\u001b[39m\u001b[39m.\u001b[39m_markup_resembles_filename(markup)                \n",
      "\u001b[0;31mTypeError\u001b[0m: object of type 'NoneType' has no len()"
     ]
    }
   ],
   "source": [
    "soup = BeautifulSoup(html)\n",
    "links = soup.find_all(\"a\")\n",
    "href = [l[\"href\"] for l in links]\n",
    "standings_pages = [f\"https://basketball-reference.com{l}\" for l in href]"
   ]
  }
 ],
 "metadata": {
  "kernelspec": {
   "display_name": "Python 3 (ipykernel)",
   "language": "python",
   "name": "python3"
  },
  "language_info": {
   "codemirror_mode": {
    "name": "ipython",
    "version": 3
   },
   "file_extension": ".py",
   "mimetype": "text/x-python",
   "name": "python",
   "nbconvert_exporter": "python",
   "pygments_lexer": "ipython3",
   "version": "3.11.0"
  }
 },
 "nbformat": 4,
 "nbformat_minor": 5
}
