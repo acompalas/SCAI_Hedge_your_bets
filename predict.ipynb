{
 "cells": [
  {
   "cell_type": "code",
   "execution_count": 17,
   "metadata": {},
   "outputs": [],
   "source": [
    "import os\n",
    "import pandas as pd\n",
    "import torch\n",
    "import torch.nn as nn\n",
    "from torch.utils.data import Dataset\n",
    "from sklearn.preprocessing import MinMaxScaler\n",
    "from torch.utils.data import DataLoader\n",
    "import matplotlib.pyplot as plt\n",
    "import seaborn as sns\n",
    "from sklearn.metrics import confusion_matrix\n",
    "import torch.optim as optim\n",
    "from process import NBADataProcessor, NBADataset\n",
    "from model import SimpleNet"
   ]
  },
  {
   "cell_type": "code",
   "execution_count": 18,
   "metadata": {},
   "outputs": [],
   "source": [
    "# Specify the path to the prediction dataset\n",
    "predict_path = 'datasets/predict.csv'\n",
    "predict_file = os.path.join(os.getcwd(), predict_path)\n",
    "\n",
    "# Load the prediction data\n",
    "predict_df = pd.read_csv(predict_file)"
   ]
  },
  {
   "cell_type": "code",
   "execution_count": 19,
   "metadata": {},
   "outputs": [],
   "source": [
    "# Extract features from the prediction dataset\n",
    "\n",
    "removed_columns = list(predict_df.columns[predict_df.dtypes == \"object\"])\n",
    "selected_columns = predict_df.columns[~predict_df.columns.isin(removed_columns)]\n",
    "\n",
    "# Exclude columns with specific words\n",
    "excluded_words = [\"season\", \"date\", \"won\", \"target\", \"team\", \"team_opp\"]\n",
    "features_columns = [col for col in selected_columns if not any(word in col for word in excluded_words)]\n",
    "\n",
    "predict_features = predict_df[features_columns].values"
   ]
  },
  {
   "cell_type": "code",
   "execution_count": 20,
   "metadata": {},
   "outputs": [],
   "source": [
    "# Create a DataLoader for the prediction data\n",
    "predict_dataset = NBADataset(predict_features, target=None)  # Set target to None\n",
    "predict_dataloader = DataLoader(predict_dataset, batch_size=32, shuffle=False)"
   ]
  },
  {
   "cell_type": "code",
   "execution_count": 21,
   "metadata": {},
   "outputs": [
    {
     "ename": "RuntimeError",
     "evalue": "Error(s) in loading state_dict for SimpleNet:\n\tsize mismatch for fc1.weight: copying a param with shape torch.Size([128, 409]) from checkpoint, the shape in current model is torch.Size([128, 137]).",
     "output_type": "error",
     "traceback": [
      "\u001b[0;31m---------------------------------------------------------------------------\u001b[0m",
      "\u001b[0;31mRuntimeError\u001b[0m                              Traceback (most recent call last)",
      "\u001b[1;32m/Users/andersoncompalas/Documents/SCAI_comp/predict.ipynb Cell 5\u001b[0m line \u001b[0;36m7\n\u001b[1;32m      <a href='vscode-notebook-cell:/Users/andersoncompalas/Documents/SCAI_comp/predict.ipynb#W1sZmlsZQ%3D%3D?line=4'>5</a>\u001b[0m \u001b[39m# Load the saved model state dictionary\u001b[39;00m\n\u001b[1;32m      <a href='vscode-notebook-cell:/Users/andersoncompalas/Documents/SCAI_comp/predict.ipynb#W1sZmlsZQ%3D%3D?line=5'>6</a>\u001b[0m model_name \u001b[39m=\u001b[39m \u001b[39m'\u001b[39m\u001b[39mmodel_state_dict.pth\u001b[39m\u001b[39m'\u001b[39m\n\u001b[0;32m----> <a href='vscode-notebook-cell:/Users/andersoncompalas/Documents/SCAI_comp/predict.ipynb#W1sZmlsZQ%3D%3D?line=6'>7</a>\u001b[0m net\u001b[39m.\u001b[39;49mload_state_dict(torch\u001b[39m.\u001b[39;49mload(model_name), strict\u001b[39m=\u001b[39;49m\u001b[39mFalse\u001b[39;49;00m)\n\u001b[1;32m      <a href='vscode-notebook-cell:/Users/andersoncompalas/Documents/SCAI_comp/predict.ipynb#W1sZmlsZQ%3D%3D?line=7'>8</a>\u001b[0m net\u001b[39m.\u001b[39meval()  \u001b[39m# Set the model to evaluation mode\u001b[39;00m\n\u001b[1;32m     <a href='vscode-notebook-cell:/Users/andersoncompalas/Documents/SCAI_comp/predict.ipynb#W1sZmlsZQ%3D%3D?line=9'>10</a>\u001b[0m \u001b[39m# Make predictions\u001b[39;00m\n",
      "File \u001b[0;32m~/miniconda3/lib/python3.11/site-packages/torch/nn/modules/module.py:2152\u001b[0m, in \u001b[0;36mModule.load_state_dict\u001b[0;34m(self, state_dict, strict, assign)\u001b[0m\n\u001b[1;32m   2147\u001b[0m         error_msgs\u001b[39m.\u001b[39minsert(\n\u001b[1;32m   2148\u001b[0m             \u001b[39m0\u001b[39m, \u001b[39m'\u001b[39m\u001b[39mMissing key(s) in state_dict: \u001b[39m\u001b[39m{}\u001b[39;00m\u001b[39m. \u001b[39m\u001b[39m'\u001b[39m\u001b[39m.\u001b[39mformat(\n\u001b[1;32m   2149\u001b[0m                 \u001b[39m'\u001b[39m\u001b[39m, \u001b[39m\u001b[39m'\u001b[39m\u001b[39m.\u001b[39mjoin(\u001b[39mf\u001b[39m\u001b[39m'\u001b[39m\u001b[39m\"\u001b[39m\u001b[39m{\u001b[39;00mk\u001b[39m}\u001b[39;00m\u001b[39m\"\u001b[39m\u001b[39m'\u001b[39m \u001b[39mfor\u001b[39;00m k \u001b[39min\u001b[39;00m missing_keys)))\n\u001b[1;32m   2151\u001b[0m \u001b[39mif\u001b[39;00m \u001b[39mlen\u001b[39m(error_msgs) \u001b[39m>\u001b[39m \u001b[39m0\u001b[39m:\n\u001b[0;32m-> 2152\u001b[0m     \u001b[39mraise\u001b[39;00m \u001b[39mRuntimeError\u001b[39;00m(\u001b[39m'\u001b[39m\u001b[39mError(s) in loading state_dict for \u001b[39m\u001b[39m{}\u001b[39;00m\u001b[39m:\u001b[39m\u001b[39m\\n\u001b[39;00m\u001b[39m\\t\u001b[39;00m\u001b[39m{}\u001b[39;00m\u001b[39m'\u001b[39m\u001b[39m.\u001b[39mformat(\n\u001b[1;32m   2153\u001b[0m                        \u001b[39mself\u001b[39m\u001b[39m.\u001b[39m\u001b[39m__class__\u001b[39m\u001b[39m.\u001b[39m\u001b[39m__name__\u001b[39m, \u001b[39m\"\u001b[39m\u001b[39m\\n\u001b[39;00m\u001b[39m\\t\u001b[39;00m\u001b[39m\"\u001b[39m\u001b[39m.\u001b[39mjoin(error_msgs)))\n\u001b[1;32m   2154\u001b[0m \u001b[39mreturn\u001b[39;00m _IncompatibleKeys(missing_keys, unexpected_keys)\n",
      "\u001b[0;31mRuntimeError\u001b[0m: Error(s) in loading state_dict for SimpleNet:\n\tsize mismatch for fc1.weight: copying a param with shape torch.Size([128, 409]) from checkpoint, the shape in current model is torch.Size([128, 137])."
     ]
    }
   ],
   "source": [
    "# Initialize the model\n",
    "input_size = len(features_columns)\n",
    "net = SimpleNet(input_size=input_size)\n",
    "\n",
    "# Load the saved model state dictionary\n",
    "model_name = 'model_state_dict.pth'\n",
    "net.load_state_dict(torch.load(model_name), strict=False)\n",
    "net.eval()  # Set the model to evaluation mode\n",
    "\n",
    "# Make predictions\n",
    "predictions = []"
   ]
  }
 ],
 "metadata": {
  "kernelspec": {
   "display_name": "base",
   "language": "python",
   "name": "python3"
  },
  "language_info": {
   "codemirror_mode": {
    "name": "ipython",
    "version": 3
   },
   "file_extension": ".py",
   "mimetype": "text/x-python",
   "name": "python",
   "nbconvert_exporter": "python",
   "pygments_lexer": "ipython3",
   "version": "3.11.0"
  }
 },
 "nbformat": 4,
 "nbformat_minor": 2
}
